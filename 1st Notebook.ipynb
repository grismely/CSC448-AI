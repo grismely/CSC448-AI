{
 "cells": [
  {
   "cell_type": "code",
   "execution_count": 1,
   "id": "dd93c1dc",
   "metadata": {},
   "outputs": [
    {
     "name": "stdout",
     "output_type": "stream",
     "text": [
      "Welcome! This is a fortune cookie generator! No cookie, all fortune! Feeling lucky? no\n",
      "Maybe next time!\n"
     ]
    }
   ],
   "source": [
    "#https://colab.research.google.com/github/grismely/CSC448-AI/blob/main/1st%20Notebook.ipynb\n",
    "    \n",
    "import random\n",
    "\n",
    "fortunes = [\"run.\",\"The fortune you seek is in another cookie.\",\"A lifetime friend shall soon be made.\",\"Advice, when most needed, is least heeded.\",\"Be careful or you could fall for some tricks today.\",\"Pennies from heaven find their way to your doorstep this year!\",\"Savor your freedom – it is precious.\",\"Romance moves you in a new direction.\",\"Resting well is as important as working hard.\"]\n",
    "\n",
    "lucky = input(\"Welcome! This is a fortune cookie generator! No cookie, all fortune! Feeling lucky? \")\n",
    "n = 0\n",
    "\n",
    "while n < 1: \n",
    "    if lucky ==\"Yes\" or lucky ==\"yes\"or lucky ==\"YES\":\n",
    "        print(\"***** \" + random.choice(fortunes) + \" *****\")\n",
    "        lucky = input(\"Would you like another fortune? \")\n",
    "        \n",
    "    else:\n",
    "        print(\"Maybe next time!\")\n",
    "        n = n+1\n"
   ]
  },
  {
   "cell_type": "markdown",
   "id": "809bde84",
   "metadata": {},
   "source": [
    "My code utilizes a lists to store numerous fortunate cookie fortunes and takes an input from user asking if they would like to partake, if yes is selected the imported random function will randomly choose a fortune (or index) from the list and print it out for the user, giving them their fortune. Simaltenously, I have a variable n set equal to 0 that will serve as the conditional for the while loop, the while loop serves to make the program more fluid--after recieving a fortunte there wont be an abrupt end, instead the user will be prompted to continue or to finish and depending on what they choice they will get another fortune or goodbye, respectively. \n"
   ]
  }
 ],
 "metadata": {
  "kernelspec": {
   "display_name": "Python 3",
   "language": "python",
   "name": "python3"
  },
  "language_info": {
   "codemirror_mode": {
    "name": "ipython",
    "version": 3
   },
   "file_extension": ".py",
   "mimetype": "text/x-python",
   "name": "python",
   "nbconvert_exporter": "python",
   "pygments_lexer": "ipython3",
   "version": "3.8.8"
  }
 },
 "nbformat": 4,
 "nbformat_minor": 5
}
