{
 "cells": [
  {
   "cell_type": "markdown",
   "metadata": {},
   "source": [
    "<a href=\"https://colab.research.google.com/github/profmcnich/example_notebook/blob/main/a3_sample_notebook.ipynb\" target=\"_parent\"><img src=\"https://colab.research.google.com/assets/colab-badge.svg\" alt=\"Open In Colab\"/></a>\n",
    "\n",
    "\\(\\^Be sure to update this button to point to your notebook instead of the sample notebook\\)"
   ]
  },
  {
   "cell_type": "code",
   "execution_count": 2,
   "metadata": {},
   "outputs": [],
   "source": [
    "# Imports section\n",
    "import pandas as pd\n",
    "import numpy as np\n",
    "from sklearn.model_selection import train_test_split\n",
    "from sklearn.linear_model import LinearRegression\n",
    "from sklearn.linear_model import BayesianRidge\n",
    "from sklearn.model_selection import cross_val_score\n",
    "from sklearn.preprocessing import PolynomialFeatures as poly\n",
    "from sklearn.model_selection import ShuffleSplit"
   ]
  },
  {
   "cell_type": "markdown",
   "metadata": {},
   "source": [
    "## Part 1. Loading the dataset"
   ]
  },
  {
   "cell_type": "code",
   "execution_count": 3,
   "metadata": {},
   "outputs": [
    {
     "data": {
      "text/html": [
       "<div>\n",
       "<style scoped>\n",
       "    .dataframe tbody tr th:only-of-type {\n",
       "        vertical-align: middle;\n",
       "    }\n",
       "\n",
       "    .dataframe tbody tr th {\n",
       "        vertical-align: top;\n",
       "    }\n",
       "\n",
       "    .dataframe thead th {\n",
       "        text-align: right;\n",
       "    }\n",
       "</style>\n",
       "<table border=\"1\" class=\"dataframe\">\n",
       "  <thead>\n",
       "    <tr style=\"text-align: right;\">\n",
       "      <th></th>\n",
       "      <th>Temperature °C</th>\n",
       "      <th>Mols KCL</th>\n",
       "      <th>Size nm^3</th>\n",
       "    </tr>\n",
       "  </thead>\n",
       "  <tbody>\n",
       "    <tr>\n",
       "      <th>0</th>\n",
       "      <td>469</td>\n",
       "      <td>647</td>\n",
       "      <td>6.244743e+05</td>\n",
       "    </tr>\n",
       "    <tr>\n",
       "      <th>1</th>\n",
       "      <td>403</td>\n",
       "      <td>694</td>\n",
       "      <td>5.779610e+05</td>\n",
       "    </tr>\n",
       "    <tr>\n",
       "      <th>2</th>\n",
       "      <td>302</td>\n",
       "      <td>975</td>\n",
       "      <td>6.196847e+05</td>\n",
       "    </tr>\n",
       "    <tr>\n",
       "      <th>3</th>\n",
       "      <td>779</td>\n",
       "      <td>916</td>\n",
       "      <td>1.460449e+06</td>\n",
       "    </tr>\n",
       "    <tr>\n",
       "      <th>4</th>\n",
       "      <td>901</td>\n",
       "      <td>18</td>\n",
       "      <td>4.325726e+04</td>\n",
       "    </tr>\n",
       "    <tr>\n",
       "      <th>5</th>\n",
       "      <td>545</td>\n",
       "      <td>637</td>\n",
       "      <td>7.124634e+05</td>\n",
       "    </tr>\n",
       "    <tr>\n",
       "      <th>6</th>\n",
       "      <td>660</td>\n",
       "      <td>519</td>\n",
       "      <td>7.006960e+05</td>\n",
       "    </tr>\n",
       "    <tr>\n",
       "      <th>7</th>\n",
       "      <td>143</td>\n",
       "      <td>869</td>\n",
       "      <td>2.718260e+05</td>\n",
       "    </tr>\n",
       "    <tr>\n",
       "      <th>8</th>\n",
       "      <td>89</td>\n",
       "      <td>461</td>\n",
       "      <td>8.919803e+04</td>\n",
       "    </tr>\n",
       "    <tr>\n",
       "      <th>9</th>\n",
       "      <td>294</td>\n",
       "      <td>776</td>\n",
       "      <td>4.770210e+05</td>\n",
       "    </tr>\n",
       "    <tr>\n",
       "      <th>10</th>\n",
       "      <td>991</td>\n",
       "      <td>117</td>\n",
       "      <td>2.441771e+05</td>\n",
       "    </tr>\n",
       "    <tr>\n",
       "      <th>11</th>\n",
       "      <td>307</td>\n",
       "      <td>781</td>\n",
       "      <td>5.006455e+05</td>\n",
       "    </tr>\n",
       "    <tr>\n",
       "      <th>12</th>\n",
       "      <td>206</td>\n",
       "      <td>70</td>\n",
       "      <td>3.145200e+04</td>\n",
       "    </tr>\n",
       "    <tr>\n",
       "      <th>13</th>\n",
       "      <td>437</td>\n",
       "      <td>599</td>\n",
       "      <td>5.390215e+05</td>\n",
       "    </tr>\n",
       "    <tr>\n",
       "      <th>14</th>\n",
       "      <td>566</td>\n",
       "      <td>75</td>\n",
       "      <td>9.185271e+04</td>\n",
       "    </tr>\n",
       "  </tbody>\n",
       "</table>\n",
       "</div>"
      ],
      "text/plain": [
       "    Temperature °C  Mols KCL     Size nm^3\n",
       "0              469       647  6.244743e+05\n",
       "1              403       694  5.779610e+05\n",
       "2              302       975  6.196847e+05\n",
       "3              779       916  1.460449e+06\n",
       "4              901        18  4.325726e+04\n",
       "5              545       637  7.124634e+05\n",
       "6              660       519  7.006960e+05\n",
       "7              143       869  2.718260e+05\n",
       "8               89       461  8.919803e+04\n",
       "9              294       776  4.770210e+05\n",
       "10             991       117  2.441771e+05\n",
       "11             307       781  5.006455e+05\n",
       "12             206        70  3.145200e+04\n",
       "13             437       599  5.390215e+05\n",
       "14             566        75  9.185271e+04"
      ]
     },
     "execution_count": 3,
     "metadata": {},
     "output_type": "execute_result"
    }
   ],
   "source": [
    "# Using pandas load the dataset (load remotely, not locally)\n",
    "dataset = pd.read_csv(\"https://raw.githubusercontent.com/profmcnich/example_notebook/main/science_data_large.csv\")\n",
    "\n",
    "# Output the first 15 rows of the data\n",
    "dataset.head(15)\n"
   ]
  },
  {
   "cell_type": "code",
   "execution_count": 9,
   "metadata": {},
   "outputs": [
    {
     "name": "stdout",
     "output_type": "stream",
     "text": [
      "<class 'pandas.core.frame.DataFrame'>\n",
      "RangeIndex: 1000 entries, 0 to 999\n",
      "Data columns (total 3 columns):\n",
      " #   Column          Non-Null Count  Dtype  \n",
      "---  ------          --------------  -----  \n",
      " 0   Temperature °C  1000 non-null   int64  \n",
      " 1   Mols KCL        1000 non-null   int64  \n",
      " 2   Size nm^3       1000 non-null   float64\n",
      "dtypes: float64(1), int64(2)\n",
      "memory usage: 23.6 KB\n"
     ]
    },
    {
     "data": {
      "text/html": [
       "<div>\n",
       "<style scoped>\n",
       "    .dataframe tbody tr th:only-of-type {\n",
       "        vertical-align: middle;\n",
       "    }\n",
       "\n",
       "    .dataframe tbody tr th {\n",
       "        vertical-align: top;\n",
       "    }\n",
       "\n",
       "    .dataframe thead th {\n",
       "        text-align: right;\n",
       "    }\n",
       "</style>\n",
       "<table border=\"1\" class=\"dataframe\">\n",
       "  <thead>\n",
       "    <tr style=\"text-align: right;\">\n",
       "      <th></th>\n",
       "      <th>Temperature °C</th>\n",
       "      <th>Mols KCL</th>\n",
       "      <th>Size nm^3</th>\n",
       "    </tr>\n",
       "  </thead>\n",
       "  <tbody>\n",
       "    <tr>\n",
       "      <th>count</th>\n",
       "      <td>1000.000000</td>\n",
       "      <td>1000.000000</td>\n",
       "      <td>1.000000e+03</td>\n",
       "    </tr>\n",
       "    <tr>\n",
       "      <th>mean</th>\n",
       "      <td>500.500000</td>\n",
       "      <td>471.530000</td>\n",
       "      <td>5.086111e+05</td>\n",
       "    </tr>\n",
       "    <tr>\n",
       "      <th>std</th>\n",
       "      <td>288.819436</td>\n",
       "      <td>288.482872</td>\n",
       "      <td>4.474838e+05</td>\n",
       "    </tr>\n",
       "    <tr>\n",
       "      <th>min</th>\n",
       "      <td>1.000000</td>\n",
       "      <td>1.000000</td>\n",
       "      <td>1.611429e+01</td>\n",
       "    </tr>\n",
       "    <tr>\n",
       "      <th>25%</th>\n",
       "      <td>250.750000</td>\n",
       "      <td>226.750000</td>\n",
       "      <td>1.298267e+05</td>\n",
       "    </tr>\n",
       "    <tr>\n",
       "      <th>50%</th>\n",
       "      <td>500.500000</td>\n",
       "      <td>459.500000</td>\n",
       "      <td>3.827182e+05</td>\n",
       "    </tr>\n",
       "    <tr>\n",
       "      <th>75%</th>\n",
       "      <td>750.250000</td>\n",
       "      <td>710.250000</td>\n",
       "      <td>7.603211e+05</td>\n",
       "    </tr>\n",
       "    <tr>\n",
       "      <th>max</th>\n",
       "      <td>1000.000000</td>\n",
       "      <td>1000.000000</td>\n",
       "      <td>1.972127e+06</td>\n",
       "    </tr>\n",
       "  </tbody>\n",
       "</table>\n",
       "</div>"
      ],
      "text/plain": [
       "       Temperature °C     Mols KCL     Size nm^3\n",
       "count     1000.000000  1000.000000  1.000000e+03\n",
       "mean       500.500000   471.530000  5.086111e+05\n",
       "std        288.819436   288.482872  4.474838e+05\n",
       "min          1.000000     1.000000  1.611429e+01\n",
       "25%        250.750000   226.750000  1.298267e+05\n",
       "50%        500.500000   459.500000  3.827182e+05\n",
       "75%        750.250000   710.250000  7.603211e+05\n",
       "max       1000.000000  1000.000000  1.972127e+06"
      ]
     },
     "execution_count": 9,
     "metadata": {},
     "output_type": "execute_result"
    }
   ],
   "source": [
    "# Display a summary of the table information (number of datapoints, etc.)\n",
    "dataset.info()\n",
    "dataset.describe()"
   ]
  },
  {
   "cell_type": "markdown",
   "metadata": {},
   "source": [
    "## Part 2. Splitting the dataset"
   ]
  },
  {
   "cell_type": "code",
   "execution_count": 4,
   "metadata": {},
   "outputs": [
    {
     "data": {
      "text/plain": [
       "(     Temperature °C  Mols KCL\n",
       " 697             842       739\n",
       " 613             722       816\n",
       " 626             529       203\n",
       " 193             794       497\n",
       " 124             204        29\n",
       " ..              ...       ...\n",
       " 573             892       860\n",
       " 974             730        72\n",
       " 770             114       939\n",
       " 306              69       347\n",
       " 531             579       758\n",
       " \n",
       " [900 rows x 2 columns],\n",
       "      Temperature °C  Mols KCL\n",
       " 705             935        28\n",
       " 787             877       693\n",
       " 389             595       518\n",
       " 526             369       982\n",
       " 727             788        65\n",
       " ..              ...       ...\n",
       " 502             184       960\n",
       " 961             591        34\n",
       " 826              24        89\n",
       " 392             955       432\n",
       " 632             504       702\n",
       " \n",
       " [100 rows x 2 columns],\n",
       "         Size nm^3\n",
       " 697  1.270183e+06\n",
       " 613  1.205992e+06\n",
       " 626  2.222994e+05\n",
       " 193  8.058214e+05\n",
       " 124  1.430403e+04\n",
       " ..            ...\n",
       " 573  1.566075e+06\n",
       " 974  1.140281e+05\n",
       " 770  2.406520e+05\n",
       " 306  5.215426e+04\n",
       " 531  9.011281e+05\n",
       " \n",
       " [900 rows x 1 columns],\n",
       "         Size nm^3\n",
       " 705  6.360240e+04\n",
       " 787  1.239767e+06\n",
       " 389  6.312264e+05\n",
       " 526  7.566961e+05\n",
       " 727  1.120167e+05\n",
       " ..            ...\n",
       " 502  3.818194e+05\n",
       " 961  4.731303e+04\n",
       " 826  4.786314e+03\n",
       " 392  8.419121e+05\n",
       " 632  7.277441e+05\n",
       " \n",
       " [100 rows x 1 columns])"
      ]
     },
     "execution_count": 4,
     "metadata": {},
     "output_type": "execute_result"
    }
   ],
   "source": [
    "# Take the pandas dataset and split it into our features (X) and label (y)\n",
    "features = dataset[[\"Temperature °C\",\"Mols KCL\"]]\n",
    "label = dataset[[\"Size nm^3\"]]\n",
    "x, y = features, label\n",
    "\n",
    "# Use sklearn to split the features and labels into a training/test set. (90% train, 10% test)\n",
    "x_train,x_test,y_train,y_test = train_test_split(x,y,test_size=.10)\n",
    "x_train, x_test, y_train, y_test"
   ]
  },
  {
   "cell_type": "markdown",
   "metadata": {},
   "source": [
    "## Part 3. Perform a Linear Regression"
   ]
  },
  {
   "cell_type": "code",
   "execution_count": 5,
   "metadata": {},
   "outputs": [
    {
     "name": "stdout",
     "output_type": "stream",
     "text": [
      "Prediction:  [[661310.41464769]]\n",
      "Score:  0.8506475828323982\n"
     ]
    }
   ],
   "source": [
    "# Use sklearn to train a model on the training set\n",
    "lin_reg = LinearRegression()\n",
    "lin_reg.fit(x_train,y_train)\n",
    "\n",
    "# Create a sample datapoint and predict the output of that sample with the trained model\n",
    "Prediction = lin_reg.predict(np.array([[469,647]]))\n",
    "print(\"Prediction: \", Prediction)\n",
    "\n",
    "# Report on the score for that model, in your own words (markdown, not code) explain what the score means\n",
    "print(\"Score: \", lin_reg.score(x_test,y_test))\n"
   ]
  },
  {
   "cell_type": "markdown",
   "metadata": {},
   "source": [
    "The score provides us with an isnight as to how accurate our data is, we're trying to get closer to the true value of the regression."
   ]
  },
  {
   "cell_type": "markdown",
   "metadata": {},
   "source": [
    "Sample equation: $E = mc^2$"
   ]
  },
  {
   "cell_type": "code",
   "execution_count": 6,
   "metadata": {},
   "outputs": [
    {
     "name": "stdout",
     "output_type": "stream",
     "text": [
      "Coeficients:  [[ 882.19653808 1033.0814699 ]]\n",
      "Intercept:  [-420843.47273537]\n"
     ]
    }
   ],
   "source": [
    "# Extract the coefficents and intercept from the model and write an equation for your h(x) using LaTeX\n",
    "print(\"Coeficients: \",lin_reg.coef_)\n",
    "print(\"Intercept: \",lin_reg.intercept_)"
   ]
  },
  {
   "cell_type": "markdown",
   "metadata": {},
   "source": [
    "\\[y = 876.18439002x_1 + 1029.04320478x_2 - 413836.9072213\\]"
   ]
  },
  {
   "cell_type": "markdown",
   "metadata": {},
   "source": [
    "## Part 4. Use Cross Validation"
   ]
  },
  {
   "cell_type": "code",
   "execution_count": 7,
   "metadata": {},
   "outputs": [
    {
     "name": "stdout",
     "output_type": "stream",
     "text": [
      "[0.87616468 0.86951566 0.83708494 0.86963943 0.84945355 0.86236913\n",
      " 0.82467112 0.85236386 0.8648058  0.76555589]\n"
     ]
    }
   ],
   "source": [
    "# Use the cross_val_score function to repeat your experiment across many shuffles of the data\n",
    "cvs = ShuffleSplit(n_splits = 10, test_size = 0.1, random_state = 0)\n",
    "scores = cross_val_score(lin_reg, x, y, cv = cvs)\n",
    "print(scores)\n",
    "\n",
    "# Report on their finding and their significance"
   ]
  },
  {
   "cell_type": "markdown",
   "metadata": {},
   "source": [
    "Similar to part 3 the scores provide us with a measure of accuracy. When executed we see a range of 82-87 with an outlier of 76, this indicates that an accuracy in the 80s is a fair evaluation of our current experience as we see it consistently come up and it all also tells us that overall our experiment isnt as accurate as it could be as our range is quite general."
   ]
  },
  {
   "cell_type": "markdown",
   "metadata": {},
   "source": [
    "## Part 5. Using Polynomial Regression"
   ]
  },
  {
   "cell_type": "code",
   "execution_count": 8,
   "metadata": {},
   "outputs": [
    {
     "name": "stdout",
     "output_type": "stream",
     "text": [
      "Score: 1.0\n",
      "Predict: [[6.36024000e+04]\n",
      " [1.23976740e+06]\n",
      " [6.31226400e+05]\n",
      " [7.56696114e+05]\n",
      " [1.12016714e+05]\n",
      " [5.09602859e+03]\n",
      " [1.42404926e+06]\n",
      " [7.26984429e+05]\n",
      " [6.98827114e+05]\n",
      " [3.82561143e+04]\n",
      " [1.92604572e+04]\n",
      " [1.22792686e+06]\n",
      " [4.24489114e+05]\n",
      " [2.31532457e+05]\n",
      " [2.51269829e+05]\n",
      " [4.74588257e+05]\n",
      " [1.65311429e+03]\n",
      " [9.72528114e+05]\n",
      " [5.10753257e+05]\n",
      " [3.95666857e+05]\n",
      " [6.24742429e+05]\n",
      " [3.79513029e+05]\n",
      " [2.50464114e+05]\n",
      " [6.18911429e+03]\n",
      " [8.03035857e+05]\n",
      " [1.28284457e+05]\n",
      " [6.80894257e+05]\n",
      " [2.91141829e+05]\n",
      " [3.55862571e+04]\n",
      " [9.02100600e+05]\n",
      " [1.34657371e+06]\n",
      " [1.48562314e+05]\n",
      " [7.35845400e+05]\n",
      " [3.50800114e+05]\n",
      " [6.54135429e+05]\n",
      " [5.76091143e+04]\n",
      " [1.37193257e+05]\n",
      " [2.71120286e+04]\n",
      " [5.75879314e+05]\n",
      " [3.11881257e+05]\n",
      " [2.16700286e+04]\n",
      " [4.22777829e+05]\n",
      " [1.00190826e+06]\n",
      " [2.98081029e+05]\n",
      " [1.07312314e+05]\n",
      " [5.77806829e+05]\n",
      " [6.82266857e+05]\n",
      " [2.40833829e+05]\n",
      " [4.87152257e+05]\n",
      " [3.21295000e+05]\n",
      " [8.51571314e+05]\n",
      " [3.95288286e+04]\n",
      " [1.94912829e+05]\n",
      " [2.64662829e+05]\n",
      " [1.15057114e+05]\n",
      " [9.84988286e+04]\n",
      " [4.68467143e+04]\n",
      " [3.42303143e+04]\n",
      " [4.04337143e+04]\n",
      " [1.74310731e+06]\n",
      " [3.96298257e+05]\n",
      " [4.82433257e+05]\n",
      " [1.93788286e+04]\n",
      " [1.30431429e+05]\n",
      " [9.73751114e+05]\n",
      " [9.42241457e+05]\n",
      " [4.00778286e+04]\n",
      " [1.74842829e+05]\n",
      " [5.06370429e+05]\n",
      " [5.58759857e+05]\n",
      " [1.55745703e+06]\n",
      " [7.58047114e+05]\n",
      " [4.31400600e+05]\n",
      " [9.76260286e+04]\n",
      " [5.40201257e+05]\n",
      " [1.52406083e+06]\n",
      " [1.41099457e+05]\n",
      " [1.66367443e+06]\n",
      " [8.66502859e+03]\n",
      " [1.92627283e+06]\n",
      " [2.71050400e+05]\n",
      " [4.95720000e+05]\n",
      " [4.12822257e+05]\n",
      " [1.85762571e+04]\n",
      " [1.17146846e+06]\n",
      " [1.09042026e+06]\n",
      " [1.07822443e+06]\n",
      " [1.15123486e+06]\n",
      " [1.96825715e+03]\n",
      " [8.18933600e+05]\n",
      " [7.04621829e+05]\n",
      " [3.35937857e+05]\n",
      " [2.32828581e+02]\n",
      " [8.68430829e+05]\n",
      " [1.86264314e+05]\n",
      " [3.81819429e+05]\n",
      " [4.73130286e+04]\n",
      " [4.78631429e+03]\n",
      " [8.41912114e+05]\n",
      " [7.27744114e+05]]\n",
      "Coefficients: [[ 0.00000000e+00  1.20000000e+01 -1.25263288e-07 -4.78497242e-11\n",
      "   2.00000000e+00  2.85714287e-02]]\n",
      "Intercept: [1.11153349e-05]\n"
     ]
    }
   ],
   "source": [
    "# Using the PolynomialFeatures library perform another regression on an augmented dataset of degree 2\n",
    "poly = poly(2)\n",
    "x_train = poly.fit_transform(x_train)\n",
    "x_test = poly.fit_transform(x_test)\n",
    "model = LinearRegression()\n",
    "model.fit(x_train,y_train)\n",
    "\n",
    "# Report on the metrics and output the resultant equation as you did in Part 3.\n",
    "print(f\"Score: {model.score(x_train,y_train)}\")\n",
    "print(f\"Predict: {model.predict(x_test)}\")\n",
    "print(f\"Coefficients: {model.coef_}\")\n",
    "print(f\"Intercept: {model.intercept_}\")"
   ]
  },
  {
   "cell_type": "markdown",
   "metadata": {},
   "source": [
    "y = 1 + 1.20000000e+01 - 1.43771160e-07 - (1.16262555e-11)^2 + 2.00000000e+00 + (2.85714287e-02)^2 + 2.05196557e-05"
   ]
  }
 ],
 "metadata": {
  "kernelspec": {
   "display_name": "Python 3",
   "language": "python",
   "name": "python3"
  },
  "language_info": {
   "codemirror_mode": {
    "name": "ipython",
    "version": 3
   },
   "file_extension": ".py",
   "mimetype": "text/x-python",
   "name": "python",
   "nbconvert_exporter": "python",
   "pygments_lexer": "ipython3",
   "version": "3.8.8"
  }
 },
 "nbformat": 4,
 "nbformat_minor": 4
}
